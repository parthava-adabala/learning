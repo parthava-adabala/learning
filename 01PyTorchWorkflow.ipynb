{
  "nbformat": 4,
  "nbformat_minor": 0,
  "metadata": {
    "colab": {
      "provenance": [],
      "authorship_tag": "ABX9TyOxBjzVlGmFEnz7FFf6av0W",
      "include_colab_link": true
    },
    "kernelspec": {
      "name": "python3",
      "display_name": "Python 3"
    },
    "language_info": {
      "name": "python"
    }
  },
  "cells": [
    {
      "cell_type": "markdown",
      "metadata": {
        "id": "view-in-github",
        "colab_type": "text"
      },
      "source": [
        "<a href=\"https://colab.research.google.com/github/parthava-adabala/learning/blob/main/01PyTorchWorkflow.ipynb\" target=\"_parent\"><img src=\"https://colab.research.google.com/assets/colab-badge.svg\" alt=\"Open In Colab\"/></a>"
      ]
    },
    {
      "cell_type": "code",
      "execution_count": null,
      "metadata": {
        "colab": {
          "base_uri": "https://localhost:8080/",
          "height": 35
        },
        "id": "s7qU6aUg24Vw",
        "outputId": "c627c6dd-42ee-4a92-b7ca-030d637f072f"
      },
      "outputs": [
        {
          "output_type": "execute_result",
          "data": {
            "text/plain": [
              "'2.8.0+cu126'"
            ],
            "application/vnd.google.colaboratory.intrinsic+json": {
              "type": "string"
            }
          },
          "metadata": {},
          "execution_count": 187
        }
      ],
      "source": [
        "import torch\n",
        "import numpy as np\n",
        "from torch import nn\n",
        "import matplotlib.pyplot as plt\n",
        "torch.__version__"
      ]
    },
    {
      "cell_type": "code",
      "source": [
        "#Data preparation\n",
        "weight = 0.5\n",
        "bias = 0.2\n",
        "\n",
        "X = torch.arange(0,10,0.2).unsqueeze(1)\n",
        "y = weight * X + bias\n",
        "\n",
        "X[:5], y[:5]"
      ],
      "metadata": {
        "colab": {
          "base_uri": "https://localhost:8080/"
        },
        "id": "uaaW83O73ACk",
        "outputId": "70b99261-f4bf-435b-ecf6-43145090769a"
      },
      "execution_count": null,
      "outputs": [
        {
          "output_type": "execute_result",
          "data": {
            "text/plain": [
              "(tensor([[0.0000],\n",
              "         [0.2000],\n",
              "         [0.4000],\n",
              "         [0.6000],\n",
              "         [0.8000]]),\n",
              " tensor([[0.2000],\n",
              "         [0.3000],\n",
              "         [0.4000],\n",
              "         [0.5000],\n",
              "         [0.6000]]))"
            ]
          },
          "metadata": {},
          "execution_count": 188
        }
      ]
    },
    {
      "cell_type": "code",
      "source": [
        "# Splitting data into training and testing sets\n",
        "train_split = int(0.8 * len(X))\n",
        "X_train, y_train = X[:train_split], y[:train_split]\n",
        "X_test, y_test = X[train_split:], y[train_split:]\n",
        "len(X_train), len(y_train), len(X_test), len(y_test)\n"
      ],
      "metadata": {
        "colab": {
          "base_uri": "https://localhost:8080/"
        },
        "id": "jfKpazJc6wv6",
        "outputId": "356c0018-2969-448c-c7df-6b03657a7610"
      },
      "execution_count": null,
      "outputs": [
        {
          "output_type": "execute_result",
          "data": {
            "text/plain": [
              "(40, 40, 10, 10)"
            ]
          },
          "metadata": {},
          "execution_count": 189
        }
      ]
    },
    {
      "cell_type": "code",
      "source": [
        "def plot_predictions(train_data=X_train,\n",
        "                     train_labels=y_train,\n",
        "                     test_data=X_test,\n",
        "                     test_labels=y_test,\n",
        "                     predictions=None):\n",
        "  plt.figure(figsize=(10,7))\n",
        "  plt.scatter(train_data, train_labels, c=\"b\", s=4, label=\"Training data\")\n",
        "\n",
        "  plt.scatter(test_data, test_labels, c=\"g\", s=4, label=\"Testing data\")\n",
        "\n",
        "  if predictions is not None:\n",
        "    plt.scatter(test_data, predictions, c=\"r\", s=4, label=\"Predictions\")\n",
        "\n",
        "  plt.legend(prop={\"size\":14})\n"
      ],
      "metadata": {
        "id": "WIw-CzCP8HZ-"
      },
      "execution_count": null,
      "outputs": []
    },
    {
      "cell_type": "code",
      "source": [
        "plot_predictions()"
      ],
      "metadata": {
        "colab": {
          "base_uri": "https://localhost:8080/",
          "height": 599
        },
        "id": "wDwKkbDt9mVA",
        "outputId": "ba36fe60-ce89-47b5-c710-23e72fb51ba8"
      },
      "execution_count": null,
      "outputs": [
        {
          "output_type": "display_data",
          "data": {
            "text/plain": [
              "<Figure size 1000x700 with 1 Axes>"
            ],
            "image/png": "[encoded data removed]"
          },
          "metadata": {}
        }
      ]
    },
    {
      "cell_type": "markdown",
      "source": [
        "# pytorch model"
      ],
      "metadata": {
        "id": "4PEzx4zN9oI-"
      }
    },
    {
      "cell_type": "code",
      "source": [
        "class LinearRegression(nn.Module):\n",
        "  def __init__(self):\n",
        "    super().__init__()\n",
        "    self.weights = nn.Parameter(torch.randn(1, requires_grad=True, dtype=torch.float))\n",
        "    self.bias = nn.Parameter(torch.randn(1,requires_grad=True, dtype=torch.float))\n",
        "\n",
        "  def forward(self, x: torch.Tensor) -> torch.Tensor:\n",
        "    return self.weights * x + self.bias\n"
      ],
      "metadata": {
        "id": "mqamwsbr-VQt"
      },
      "execution_count": null,
      "outputs": []
    },
    {
      "cell_type": "code",
      "source": [
        "torch.manual_seed(42)\n",
        "model_0 = LinearRegression()\n",
        "list(model_0.parameters()), model_0.state_dict(), model_0.parameters()"
      ],
      "metadata": {
        "colab": {
          "base_uri": "https://localhost:8080/"
        },
        "id": "PQAMbj9nCB25",
        "outputId": "4722e508-69ef-4997-feb4-6f58d65f3fb9"
      },
      "execution_count": null,
      "outputs": [
        {
          "output_type": "execute_result",
          "data": {
            "text/plain": [
              "([Parameter containing:\n",
              "  tensor([0.3367], requires_grad=True),\n",
              "  Parameter containing:\n",
              "  tensor([0.1288], requires_grad=True)],\n",
              " OrderedDict([('weights', tensor([0.3367])), ('bias', tensor([0.1288]))]),\n",
              " <generator object Module.parameters at 0x7bef30d7e6c0>)"
            ]
          },
          "metadata": {},
          "execution_count": 193
        }
      ]
    },
    {
      "cell_type": "code",
      "source": [
        "#Make predictions\n",
        "with torch.inference_mode(): # inference mode is faster for predictions because it does not use gradients tracking\n",
        "  y_preds = model_0(X_test)\n",
        "y_preds"
      ],
      "metadata": {
        "colab": {
          "base_uri": "https://localhost:8080/"
        },
        "id": "e3wQJ4RIERNf",
        "outputId": "6b252639-fe1e-40f5-e42b-97d70440dc0d"
      },
      "execution_count": null,
      "outputs": [
        {
          "output_type": "execute_result",
          "data": {
            "text/plain": [
              "tensor([[2.8223],\n",
              "        [2.8897],\n",
              "        [2.9570],\n",
              "        [3.0243],\n",
              "        [3.0917],\n",
              "        [3.1590],\n",
              "        [3.2264],\n",
              "        [3.2937],\n",
              "        [3.3610],\n",
              "        [3.4284]])"
            ]
          },
          "metadata": {},
          "execution_count": 194
        }
      ]
    },
    {
      "cell_type": "code",
      "source": [
        "plot_predictions(predictions=y_preds)"
      ],
      "metadata": {
        "colab": {
          "base_uri": "https://localhost:8080/",
          "height": 599
        },
        "id": "YVLLzRZtVoG5",
        "outputId": "9cea8775-a07e-41fc-a0e7-53289243bff2"
      },
      "execution_count": null,
      "outputs": [
        {
          "output_type": "display_data",
          "data": {
            "text/plain": [
              "<Figure size 1000x700 with 1 Axes>"
            ],
            "image/png": "[encoded data removed]"
          },
          "metadata": {}
        }
      ]
    },
    {
      "cell_type": "markdown",
      "source": [
        "#Train a model"
      ],
      "metadata": {
        "id": "8fKpxX4RWC4H"
      }
    },
    {
      "cell_type": "code",
      "source": [
        "# set up loss function\n",
        "loss_fn = nn.L1Loss()\n",
        "\n",
        "# set up optimizer\n",
        "optimizer = torch.optim.SGD(params=model_0.parameters(), lr=0.001)\n",
        "\n"
      ],
      "metadata": {
        "id": "EIe8PL4cXutP"
      },
      "execution_count": null,
      "outputs": []
    },
    {
      "cell_type": "code",
      "source": [
        "# Building a training loop\n",
        "torch.manual_seed(42)\n",
        "epochs = 200\n",
        "\n",
        "#track experiments\n",
        "epoch_count = []\n",
        "loss_values = []\n",
        "test_loss_values = []\n",
        "\n",
        "for epoch in range(epochs):\n",
        "  model_0.train()\n",
        "  y_pred = model_0(X_train)\n",
        "  loss = loss_fn(y_pred, y_train)\n",
        "  optimizer.zero_grad()\n",
        "  loss.backward()\n",
        "  optimizer.step()\n",
        "  model_0.eval()\n",
        "  with torch.inference_mode():\n",
        "    test_pred = model_0(X_test)\n",
        "    test_loss = loss_fn(test_pred, y_test)\n",
        "  if epoch % 10 == 0:\n",
        "    epoch_count.append(epoch)\n",
        "    loss_values.append(loss)\n",
        "    test_loss_values.append(test_loss)\n",
        "    print(f\"Epoch: {epoch}, Loss: {loss}, Test loss: {test_loss}\")\n",
        "    model_0.state_dict()"
      ],
      "metadata": {
        "colab": {
          "base_uri": "https://localhost:8080/"
        },
        "id": "GYWoQpDDac5s",
        "outputId": "bef0675a-f819-44f3-fd05-1e0f2870fac8"
      },
      "execution_count": null,
      "outputs": [
        {
          "output_type": "stream",
          "name": "stdout",
          "text": [
            "Epoch: 0, Loss: 0.7080981731414795, Test loss: 1.488936185836792\n",
            "Epoch: 10, Loss: 0.5459984540939331, Test loss: 1.1318371295928955\n",
            "Epoch: 20, Loss: 0.3838988244533539, Test loss: 0.7747377157211304\n",
            "Epoch: 30, Loss: 0.22179913520812988, Test loss: 0.41763830184936523\n",
            "Epoch: 40, Loss: 0.059699464589357376, Test loss: 0.06053924560546875\n",
            "Epoch: 50, Loss: 0.010650591924786568, Test loss: 0.01520991325378418\n",
            "Epoch: 60, Loss: 0.008955279365181923, Test loss: 0.011250495910644531\n",
            "Epoch: 70, Loss: 0.007315681781619787, Test loss: 0.007646417710930109\n",
            "Epoch: 80, Loss: 0.012875666841864586, Test loss: 0.0074255941435694695\n",
            "Epoch: 90, Loss: 0.011081570759415627, Test loss: 0.0011643886100500822\n",
            "Epoch: 100, Loss: 0.00940917618572712, Test loss: 0.004746198654174805\n",
            "Epoch: 110, Loss: 0.011708076111972332, Test loss: 0.002134561538696289\n",
            "Epoch: 120, Loss: 0.011684213764965534, Test loss: 0.003672361373901367\n",
            "Epoch: 130, Loss: 0.01439298503100872, Test loss: 0.0008089542388916016\n",
            "Epoch: 140, Loss: 0.012050352059304714, Test loss: 0.005727243609726429\n",
            "Epoch: 150, Loss: 0.013159585185348988, Test loss: 0.004098844714462757\n",
            "Epoch: 160, Loss: 0.013804512098431587, Test loss: 0.00329246511682868\n",
            "Epoch: 170, Loss: 0.014042074792087078, Test loss: 0.0030421256087720394\n",
            "Epoch: 180, Loss: 0.014279638417065144, Test loss: 0.002792262937873602\n",
            "Epoch: 190, Loss: 0.014517689123749733, Test loss: 0.0025919913314282894\n"
          ]
        }
      ]
    },
    {
      "cell_type": "code",
      "source": [
        "plt.plot(epoch_count, torch.tensor(loss_values, requires_grad=False).numpy(), label=\"Train loss\")\n",
        "plt.plot(epoch_count, test_loss_values, label=\"Test loss\")\n",
        "plt.title(\"Training and test loss curves\")\n",
        "plt.ylabel(\"Loss\")\n",
        "plt.xlabel(\"Epochs\")\n",
        "plt.legend()"
      ],
      "metadata": {
        "colab": {
          "base_uri": "https://localhost:8080/",
          "height": 490
        },
        "id": "-0cgr244g1rA",
        "outputId": "9face4e9-a40a-48b8-d587-1357196803f2"
      },
      "execution_count": null,
      "outputs": [
        {
          "output_type": "execute_result",
          "data": {
            "text/plain": [
              "<matplotlib.legend.Legend at 0x7bef302e0e00>"
            ]
          },
          "metadata": {},
          "execution_count": 198
        },
        {
          "output_type": "display_data",
          "data": {
            "text/plain": [
              "<Figure size 640x480 with 1 Axes>"
            ],
            "image/png": "[encoded data removed]"
          },
          "metadata": {}
        }
      ]
    },
    {
      "cell_type": "code",
      "source": [
        "\n",
        "model_0.eval()\n",
        "with torch.inference_mode():\n",
        "  y_preds = model_0(X_test)\n",
        "plot_predictions(predictions=y_preds)"
      ],
      "metadata": {
        "colab": {
          "base_uri": "https://localhost:8080/",
          "height": 599
        },
        "id": "Nn5Q2qF0g0uN",
        "outputId": "53bb64f6-1ddf-48ad-c9e7-2eee3d139296"
      },
      "execution_count": null,
      "outputs": [
        {
          "output_type": "display_data",
          "data": {
            "text/plain": [
              "<Figure size 1000x700 with 1 Axes>"
            ],
            "image/png": "[encoded data removed]"
          },
          "metadata": {}
        }
      ]
    },
    {
      "cell_type": "code",
      "source": [
        "# Save model\n",
        "from pathlib import Path\n",
        "MODEL_PATH = Path(\"models\")\n",
        "MODEL_PATH.mkdir(parents=True, exist_ok=True)\n",
        "\n",
        "MODEL_NAME = \"01_pytorch_workflow.pth\"\n",
        "MODEL_SAVE_PATH = MODEL_PATH/MODEL_NAME\n",
        "\n",
        "torch.save(obj=model_0.state_dict(), f=MODEL_SAVE_PATH)"
      ],
      "metadata": {
        "id": "0iFJs9nNnU3v"
      },
      "execution_count": 218,
      "outputs": []
    },
    {
      "cell_type": "code",
      "source": [
        "# Load model\n",
        "loaded_model_0 = LinearRegression()\n",
        "loaded_model_0.load_state_dict(torch.load(f=MODEL_SAVE_PATH))"
      ],
      "metadata": {
        "id": "y3K8SvHeaS4F",
        "colab": {
          "base_uri": "https://localhost:8080/"
        },
        "outputId": "9e26454e-23af-41bd-edc6-140cde32b99b"
      },
      "execution_count": 219,
      "outputs": [
        {
          "output_type": "execute_result",
          "data": {
            "text/plain": [
              "<All keys matched successfully>"
            ]
          },
          "metadata": {},
          "execution_count": 219
        }
      ]
    },
    {
      "cell_type": "code",
      "source": [
        "loaded_model_0.state_dict()"
      ],
      "metadata": {
        "id": "r5OH5MR6bB_B",
        "colab": {
          "base_uri": "https://localhost:8080/"
        },
        "outputId": "983481cc-0144-4fb1-f4f3-e46afce6b138"
      },
      "execution_count": 220,
      "outputs": [
        {
          "output_type": "execute_result",
          "data": {
            "text/plain": [
              "OrderedDict([('weights', tensor([0.5037])), ('bias', tensor([0.2000]))])"
            ]
          },
          "metadata": {},
          "execution_count": 220
        }
      ]
    },
    {
      "cell_type": "code",
      "source": [
        "# Make predictions with loaded model\n",
        "loaded_model_0.eval()\n",
        "with torch.inference_mode():\n",
        "  loaded_model_preds = loaded_model_0(X_test)\n",
        "loaded_model_preds"
      ],
      "metadata": {
        "colab": {
          "base_uri": "https://localhost:8080/"
        },
        "id": "ZbsPO6FR4u3y",
        "outputId": "3f461c6d-2f6a-4ebd-ae72-67547e1a3753"
      },
      "execution_count": 221,
      "outputs": [
        {
          "output_type": "execute_result",
          "data": {
            "text/plain": [
              "tensor([[4.2298],\n",
              "        [4.3305],\n",
              "        [4.4313],\n",
              "        [4.5320],\n",
              "        [4.6327],\n",
              "        [4.7335],\n",
              "        [4.8342],\n",
              "        [4.9350],\n",
              "        [5.0357],\n",
              "        [5.1365]])"
            ]
          },
          "metadata": {},
          "execution_count": 221
        }
      ]
    },
    {
      "cell_type": "code",
      "source": [
        "y_preds == loaded_model_preds"
      ],
      "metadata": {
        "colab": {
          "base_uri": "https://localhost:8080/"
        },
        "id": "e0REVVTZ45nv",
        "outputId": "a563cdcb-1692-4df3-90e3-319b879f7a84"
      },
      "execution_count": 222,
      "outputs": [
        {
          "output_type": "execute_result",
          "data": {
            "text/plain": [
              "tensor([[True],\n",
              "        [True],\n",
              "        [True],\n",
              "        [True],\n",
              "        [True],\n",
              "        [True],\n",
              "        [True],\n",
              "        [True],\n",
              "        [True],\n",
              "        [True]])"
            ]
          },
          "metadata": {},
          "execution_count": 222
        }
      ]
    },
    {
      "cell_type": "code",
      "source": [
        "class LinearRegressionModelV2(nn.Module):\n",
        "  def __init__(self):\n",
        "    super().__init__()\n",
        "    self.layer_1 = nn.Linear(in_features=1, out_features=1)\n",
        "\n",
        "    def forward(self, x: torch.Tensor) -> torch.Tensor:\n",
        "      return self.layer_1(x)"
      ],
      "metadata": {
        "id": "hYRr9S5y49bB"
      },
      "execution_count": 224,
      "outputs": []
    },
    {
      "cell_type": "code",
      "source": [
        "model_1 = LinearRegressionModelV2()\n",
        "model_1.state_dict()"
      ],
      "metadata": {
        "colab": {
          "base_uri": "https://localhost:8080/"
        },
        "id": "ZUixTSO87NaF",
        "outputId": "6f89013a-6184-4388-ec64-31ab68482d27"
      },
      "execution_count": 226,
      "outputs": [
        {
          "output_type": "execute_result",
          "data": {
            "text/plain": [
              "OrderedDict([('layer_1.weight', tensor([[-0.4869]])),\n",
              "             ('layer_1.bias', tensor([0.5873]))])"
            ]
          },
          "metadata": {},
          "execution_count": 226
        }
      ]
    },
    {
      "cell_type": "code",
      "source": [
        "next(model_1.parameters()).device"
      ],
      "metadata": {
        "colab": {
          "base_uri": "https://localhost:8080/"
        },
        "id": "3PW-ggZG7Wy1",
        "outputId": "13a157cc-a757-4a43-b642-391becf3a3b9"
      },
      "execution_count": 230,
      "outputs": [
        {
          "output_type": "execute_result",
          "data": {
            "text/plain": [
              "device(type='cpu')"
            ]
          },
          "metadata": {},
          "execution_count": 230
        }
      ]
    }
  ]
}